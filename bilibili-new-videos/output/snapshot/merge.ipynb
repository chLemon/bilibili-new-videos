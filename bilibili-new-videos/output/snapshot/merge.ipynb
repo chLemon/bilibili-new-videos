{
 "cells": [
  {
   "cell_type": "code",
   "execution_count": 1,
   "id": "1a11431f",
   "metadata": {},
   "outputs": [],
   "source": [
    "from pathlib import Path\n",
    "import json\n",
    "\n",
    "\n",
    "files = [f for f in Path(\".\").iterdir() if f.name.endswith(\".snapshot\")]\n",
    "files.sort(key=lambda f: int(f.name.split(\".\")[0]))\n",
    "\n",
    "\n",
    "# 合并所有 .snapshot 文件中的 uuid 到 last 映射\n",
    "\n",
    "uuid_to_last = {}\n",
    "for file in files:\n",
    "    with open(file, \"r\", encoding=\"utf-8\") as f:\n",
    "        one_uuid_to_last = json.load(f)\n",
    "        uuid_to_last.update(one_uuid_to_last)"
   ]
  },
  {
   "cell_type": "code",
   "execution_count": 2,
   "id": "f35b7756",
   "metadata": {},
   "outputs": [],
   "source": [
    "from datetime import datetime\n",
    "\n",
    "snapshot_path = Path(\".\") / (str(int(datetime.now().timestamp())) + \".snapshot\")\n",
    "\n",
    "with open(snapshot_path, \"w\", encoding=\"utf-8\") as f:\n",
    "    f.write(json.dumps(uuid_to_last))"
   ]
  },
  {
   "cell_type": "code",
   "execution_count": 3,
   "id": "77b4df7a",
   "metadata": {},
   "outputs": [],
   "source": [
    "# 删除掉之前的文件\n",
    "for file in files:\n",
    "    file.unlink()"
   ]
  },
  {
   "cell_type": "code",
   "execution_count": null,
   "id": "7771fff0",
   "metadata": {},
   "outputs": [],
   "source": []
  },
  {
   "cell_type": "code",
   "execution_count": null,
   "id": "48e852a8",
   "metadata": {},
   "outputs": [],
   "source": []
  },
  {
   "cell_type": "code",
   "execution_count": null,
   "id": "96b5a9b8",
   "metadata": {},
   "outputs": [],
   "source": []
  }
 ],
 "metadata": {
  "kernelspec": {
   "display_name": "base",
   "language": "python",
   "name": "python3"
  },
  "language_info": {
   "codemirror_mode": {
    "name": "ipython",
    "version": 3
   },
   "file_extension": ".py",
   "mimetype": "text/x-python",
   "name": "python",
   "nbconvert_exporter": "python",
   "pygments_lexer": "ipython3",
   "version": "3.12.7"
  }
 },
 "nbformat": 4,
 "nbformat_minor": 5
}

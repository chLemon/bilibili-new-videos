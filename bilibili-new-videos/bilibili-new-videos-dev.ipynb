{
 "cells": [
  {
   "cell_type": "markdown",
   "id": "ca86da16",
   "metadata": {},
   "source": [
    "获取所有 up 的视频信息"
   ]
  },
  {
   "cell_type": "code",
   "execution_count": 15,
   "id": "46812b07",
   "metadata": {},
   "outputs": [],
   "source": [
    "from pathlib import Path\n",
    "from pydantic import BaseModel, TypeAdapter\n",
    "from typing import List\n",
    "\n",
    "\n",
    "class Up(BaseModel):\n",
    "    uuid: str\n",
    "    content: str\n",
    "    up_name: str\n",
    "\n",
    "\n",
    "class Group(BaseModel):\n",
    "    group_name: str\n",
    "    up_list: List[Up]\n",
    "\n",
    "\n",
    "markdown_path = Path() / \"data\" / \"我的up分组.md\"\n",
    "\n",
    "with open(markdown_path, \"r\", encoding=\"utf-8\") as f:\n",
    "    markdown_lines = f.readlines()\n",
    "\n",
    "group_list: List[Group]  = []\n",
    "group = None\n",
    "all_ups_uuid_list = []\n",
    "for line in markdown_lines:\n",
    "    if line.startswith(\"#\"):\n",
    "        # 遇到了标题行，说明到了新的组\n",
    "        if group:\n",
    "            group_list.append(group)\n",
    "        group = Group(group_name=line[1:].strip(), up_list=[])\n",
    "    elif (not group) or (not line.startswith(\"|\")):\n",
    "        # 普通行，如果在第一个标题行前，或者不是表格，直接跳过\n",
    "        continue\n",
    "    else:\n",
    "        # 表格行\n",
    "        splits = line.split(\"|\")\n",
    "        column1 = splits[1].strip()\n",
    "        if not column1[0:1].isdigit():\n",
    "            # 不是up信息的行，直接跳过\n",
    "            continue\n",
    "        column2 = splits[2].strip()\n",
    "        column3 = splits[3].strip()\n",
    "        up = Up(uuid=column1, content=column2, up_name=column3)\n",
    "        all_ups_uuid_list.append(up.uuid)\n",
    "        group.up_list.append(up)\n",
    "group_list.append(group)"
   ]
  },
  {
   "cell_type": "markdown",
   "id": "afb39f49",
   "metadata": {},
   "source": [
    "解析视频信息"
   ]
  },
  {
   "cell_type": "code",
   "execution_count": 16,
   "id": "7f5824bc",
   "metadata": {},
   "outputs": [
    {
     "name": "stdout",
     "output_type": "stream",
     "text": [
      "0\n",
      "10\n",
      "20\n",
      "30\n",
      "40\n",
      "50\n",
      "60\n"
     ]
    }
   ],
   "source": [
    "import asyncio\n",
    "from bilibili_api import video, user\n",
    "import random\n",
    "\n",
    "\n",
    "# https://github.com/Nemo2011/bilibili-api?tab=readme-ov-file\n",
    "class VideoInfo(BaseModel):\n",
    "    title: str\n",
    "    pic: str\n",
    "    bvid: str\n",
    "\n",
    "async def get_videos(uuid: str):\n",
    "    u = user.User(uuid)\n",
    "    videos = await u.get_videos()\n",
    "    return {\n",
    "        uuid: [\n",
    "            VideoInfo(title=v[\"title\"], pic=v[\"pic\"], bvid=v[\"bvid\"])\n",
    "            for v in videos[\"list\"][\"vlist\"]\n",
    "            if v[\"elec_arc_type\"] == 0\n",
    "        ],\n",
    "    }\n",
    "\n",
    "tasks = [get_videos(uuid) for uuid in all_ups_uuid_list]\n",
    "\n",
    "# 间隔，分批请求\n",
    "uuid_to_videos = {}\n",
    "\n",
    "for i in range(0, len(tasks), 10):\n",
    "    print(i)\n",
    "    batch = tasks[i : i + 10]\n",
    "    batch_result = await asyncio.gather(*batch)\n",
    "    for each_result in batch_result:\n",
    "        uuid_to_videos.update(each_result)\n",
    "    if i + 15 < len(tasks):\n",
    "        await asyncio.sleep(random.uniform(1, 2))"
   ]
  },
  {
   "cell_type": "code",
   "execution_count": 17,
   "id": "f16e9187",
   "metadata": {},
   "outputs": [],
   "source": [
    "from datetime import datetime\n",
    "\n",
    "# 构建输出的内容\n",
    "now = datetime.now()\n",
    "dir_path = Path() / \"output\"\n",
    "snapshot_dir_path = dir_path / \"snapshot\"\n",
    "# markdown 用来看\n",
    "output_path = dir_path / (now.strftime(\"%Y-%m-%d-%H-%M-%S\") + \".md\")\n",
    "# 数据，用来做减法\n",
    "snapshot_path = snapshot_dir_path / (str(int(now.timestamp())) + \".snapshot\")\n",
    "\n",
    "# 获取 snapshot_dir_path 下所有以 .snapshot 结尾的文件\n",
    "snapshot_files = [\n",
    "    f\n",
    "    for f in snapshot_dir_path.iterdir()\n",
    "    if f.suffix == \".snapshot\" and f.stem.isdigit()\n",
    "]\n",
    "if snapshot_files:\n",
    "    # 按照文件名数字排序，取最大的\n",
    "    latest_snapshot = max(snapshot_files, key=lambda f: int(f.stem))\n",
    "else:\n",
    "    latest_snapshot = None"
   ]
  },
  {
   "cell_type": "markdown",
   "id": "6cce07b2",
   "metadata": {},
   "source": [
    "根据 之前的 snapshot 和 这次的视频数据，构造完整的 snapshot\n",
    "\n",
    "原因：\n",
    "\n",
    "有的 uuid 获取到的视频信息可能为空，但是之前有获取到\n"
   ]
  },
  {
   "cell_type": "code",
   "execution_count": 18,
   "id": "a35c1587",
   "metadata": {},
   "outputs": [],
   "source": [
    "# 读取之前的 snapshot 信息\n",
    "import json\n",
    "\n",
    "if latest_snapshot:\n",
    "    with open(latest_snapshot, \"r\", encoding=\"utf-8\") as f:\n",
    "        latest_snapshot_data = f.read()\n",
    "    # 反序列化 uuid_to_videos_json 为 Python 对象\n",
    "    latest_uuid_to_latest_video = json.loads(latest_snapshot_data)\n",
    "    uuid_to_latest_video = {\n",
    "        uuid: VideoInfo(**last_video_info)\n",
    "        for uuid, last_video_info in latest_uuid_to_latest_video.items()\n",
    "    }\n",
    "\n",
    "# 本次的信息构建 snapshot\n",
    "snapshot_data = {uuid: videos[0] for uuid, videos in uuid_to_videos.items() if videos}\n",
    "\n",
    "# 合并\n",
    "if latest_snapshot:\n",
    "    for uuid, latest_video in uuid_to_latest_video.items():\n",
    "        if uuid not in snapshot_data:\n",
    "            snapshot_data[uuid] = latest_video\n",
    "\n",
    "# 写 snapshot\n",
    "uuid_to_video_json = json.dumps(\n",
    "    {uuid: video.model_dump() for uuid, video in snapshot_data.items()},\n",
    "    ensure_ascii=False,\n",
    ")\n",
    "with open(snapshot_path, \"w\", encoding=\"utf-8\") as f:\n",
    "    f.write(uuid_to_video_json)"
   ]
  },
  {
   "cell_type": "code",
   "execution_count": 19,
   "id": "69a86ee4",
   "metadata": {},
   "outputs": [],
   "source": [
    "# 读取之前的 snapshot\n",
    "if latest_snapshot:\n",
    "    # 去掉 uuid_to_videos 中，latest_video 及其之后的部分\n",
    "    for uuid, videos in uuid_to_videos.items():\n",
    "        if uuid in uuid_to_latest_video:\n",
    "            old_last_bvid = uuid_to_latest_video[uuid].bvid\n",
    "            idx = next(\n",
    "                (i for i, v in enumerate(videos) if v.bvid == old_last_bvid), None\n",
    "            )\n",
    "            updates = videos[:idx]\n",
    "            uuid_to_videos[uuid] = updates\n",
    "\n",
    "# 去掉 value 为空的\n",
    "uuid_to_videos = {k: v for k, v in uuid_to_videos.items() if v}"
   ]
  },
  {
   "cell_type": "code",
   "execution_count": 20,
   "id": "1fa3224c",
   "metadata": {},
   "outputs": [
    {
     "data": {
      "text/plain": [
       "3"
      ]
     },
     "execution_count": 20,
     "metadata": {},
     "output_type": "execute_result"
    }
   ],
   "source": [
    "len(uuid_to_videos)"
   ]
  },
  {
   "cell_type": "code",
   "execution_count": 21,
   "id": "837b1047",
   "metadata": {},
   "outputs": [],
   "source": [
    "if uuid_to_videos:\n",
    "    # 说明有更新，写 更新 markdown\n",
    "    output_content = \"\"\n",
    "\n",
    "    for group in group_list:\n",
    "        has_write_title = False\n",
    "        for up in group.up_list:\n",
    "            videoInfos = uuid_to_videos.get(up.uuid)\n",
    "            if videoInfos:\n",
    "                if not has_write_title:\n",
    "                    output_content += \"# \"\n",
    "                    output_content += group.group_name\n",
    "                    output_content += \"\\n\\n\"\n",
    "                    has_write_title = True\n",
    "\n",
    "                output_content += \"## \"\n",
    "                output_content += up.up_name\n",
    "                output_content += \"    \"\n",
    "                output_content += up.content\n",
    "                output_content += \"\\n\\n\"\n",
    "                for videoInfo in videoInfos:\n",
    "                    output_content += videoInfo.title\n",
    "                    output_content += \"\\n\"\n",
    "                    output_content += \"https://www.bilibili.com/video/\" + videoInfo.bvid\n",
    "                    output_content += \"\\n\\n\"\n",
    "    with open(output_path, \"w\", encoding=\"utf-8\") as f:\n",
    "        f.write(output_content)\n",
    "else:\n",
    "    print(\"没有更新！\")"
   ]
  }
 ],
 "metadata": {
  "kernelspec": {
   "display_name": "base",
   "language": "python",
   "name": "python3"
  },
  "language_info": {
   "codemirror_mode": {
    "name": "ipython",
    "version": 3
   },
   "file_extension": ".py",
   "mimetype": "text/x-python",
   "name": "python",
   "nbconvert_exporter": "python",
   "pygments_lexer": "ipython3",
   "version": "3.12.7"
  }
 },
 "nbformat": 4,
 "nbformat_minor": 5
}
